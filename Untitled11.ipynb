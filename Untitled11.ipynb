{
  "metadata": {
    "language_info": {
      "codemirror_mode": {
        "name": "python",
        "version": 3
      },
      "file_extension": ".py",
      "mimetype": "text/x-python",
      "name": "python",
      "nbconvert_exporter": "python",
      "pygments_lexer": "ipython3",
      "version": "3.8"
    },
    "kernelspec": {
      "name": "python",
      "display_name": "Pyolite",
      "language": "python"
    }
  },
  "nbformat_minor": 4,
  "nbformat": 4,
  "cells": [
    {
      "cell_type": "code",
      "source": "#statemnt\na=10\nif a==10:\n    print(\"this is my first condition\")",
      "metadata": {
        "trusted": true
      },
      "execution_count": 2,
      "outputs": [
        {
          "name": "stdout",
          "text": "this is my first condition\n",
          "output_type": "stream"
        }
      ]
    },
    {
      "cell_type": "code",
      "source": "a=10\nif a>5:\n    pass",
      "metadata": {
        "trusted": true
      },
      "execution_count": 4,
      "outputs": []
    },
    {
      "cell_type": "code",
      "source": "#else\na=10\nif a!=11:\n    print(\"my condition is false\")\nelse:\n        print(\"print this\")",
      "metadata": {
        "trusted": true
      },
      "execution_count": 6,
      "outputs": [
        {
          "name": "stdout",
          "text": "my condition is false\n",
          "output_type": "stream"
        }
      ]
    },
    {
      "cell_type": "code",
      "source": "\na=10\nif a==11:\n    print(\"my condition is false\")\nelse:\n        print(\"print this\")",
      "metadata": {
        "trusted": true
      },
      "execution_count": 7,
      "outputs": [
        {
          "name": "stdout",
          "text": "print this\n",
          "output_type": "stream"
        }
      ]
    },
    {
      "cell_type": "code",
      "source": "#elif\na=10\nif a==12:\n    print(\"here we are trying to compare 10 with 12\")\nelif a==11:\n    print(\"we are trying to compare 10 with 11\")\nelse:\n    print(\"if all the condition is block print this\")",
      "metadata": {
        "trusted": true
      },
      "execution_count": 8,
      "outputs": [
        {
          "name": "stdout",
          "text": "if all the condition is block print this\n",
          "output_type": "stream"
        }
      ]
    },
    {
      "cell_type": "code",
      "source": "",
      "metadata": {},
      "execution_count": null,
      "outputs": []
    },
    {
      "cell_type": "code",
      "source": "#elif\na=10\nif a==12:\n    print(\"here we are trying to compare 10 with 12\")\nelif a==10:\n    print(\"we are trying to compare 10 with 10\")\nelse:\n    print(\"if all the condition is block print this\")",
      "metadata": {
        "trusted": true
      },
      "execution_count": 9,
      "outputs": [
        {
          "name": "stdout",
          "text": "we are trying to compare 10 with 10\n",
          "output_type": "stream"
        }
      ]
    },
    {
      "cell_type": "code",
      "source": "price=500\nif price>500:\n    print(\"may be i won't able to buy a jacket\")\nelif price<=500:\n    print(\"i will be able to buy\")\nelse:\n    print(\"i don't know\")",
      "metadata": {
        "trusted": true
      },
      "execution_count": 11,
      "outputs": [
        {
          "name": "stdout",
          "text": "i will be able to buy\n",
          "output_type": "stream"
        }
      ]
    },
    {
      "cell_type": "code",
      "source": "price>500",
      "metadata": {
        "trusted": true
      },
      "execution_count": 12,
      "outputs": [
        {
          "execution_count": 12,
          "output_type": "execute_result",
          "data": {
            "text/plain": "False"
          },
          "metadata": {}
        }
      ]
    },
    {
      "cell_type": "code",
      "source": "price==500",
      "metadata": {
        "trusted": true
      },
      "execution_count": 13,
      "outputs": [
        {
          "execution_count": 13,
          "output_type": "execute_result",
          "data": {
            "text/plain": "True"
          },
          "metadata": {}
        }
      ]
    },
    {
      "cell_type": "code",
      "source": "#if i need something in the list,\nl=[1,2,3,4,5,6]\n2 in l",
      "metadata": {
        "trusted": true
      },
      "execution_count": 14,
      "outputs": [
        {
          "execution_count": 14,
          "output_type": "execute_result",
          "data": {
            "text/plain": "True"
          },
          "metadata": {}
        }
      ]
    },
    {
      "cell_type": "code",
      "source": "#same as in program:\nif 2 in l:\n    print(\"try to perform a task\")\nelse:\n    print(\"do not perform a task\")",
      "metadata": {
        "trusted": true
      },
      "execution_count": 15,
      "outputs": [
        {
          "name": "stdout",
          "text": "try to perform a task\n",
          "output_type": "stream"
        }
      ]
    },
    {
      "cell_type": "code",
      "source": "60 in l",
      "metadata": {
        "trusted": true
      },
      "execution_count": 16,
      "outputs": [
        {
          "execution_count": 16,
          "output_type": "execute_result",
          "data": {
            "text/plain": "False"
          },
          "metadata": {}
        }
      ]
    },
    {
      "cell_type": "code",
      "source": "#multiple condition\nl",
      "metadata": {
        "trusted": true
      },
      "execution_count": 17,
      "outputs": [
        {
          "execution_count": 17,
          "output_type": "execute_result",
          "data": {
            "text/plain": "[1, 2, 3, 4, 5, 6]"
          },
          "metadata": {}
        }
      ]
    },
    {
      "cell_type": "code",
      "source": "if 1 in l:\n    print(\"try to addition\")\nelif 2 in l:\n    print(\"try to sub\")\nelif 3 in l:\n    print(\"try to mul\")",
      "metadata": {
        "trusted": true
      },
      "execution_count": 18,
      "outputs": [
        {
          "name": "stdout",
          "text": "try to addition\n",
          "output_type": "stream"
        }
      ]
    },
    {
      "cell_type": "code",
      "source": "if 10 in l:\n    print(\"try to addition\")\nelif 2 in l:\n    print(\"try to sub\")\nelif 3 in l:\n    print(\"try to mul\")",
      "metadata": {
        "trusted": true
      },
      "execution_count": 19,
      "outputs": [
        {
          "name": "stdout",
          "text": "try to sub\n",
          "output_type": "stream"
        }
      ]
    },
    {
      "cell_type": "code",
      "source": "#multiple if condition \nif 10 in l:\n    print(\"try to addition\")\nelif 2 in l:\n    print(\"try to sub\")\nelif 3 in l:\n    print(\"try to mul\")\nif 4 in l:\n    print(\"this is new\")",
      "metadata": {
        "trusted": true
      },
      "execution_count": 20,
      "outputs": [
        {
          "name": "stdout",
          "text": "try to sub\nthis is new\n",
          "output_type": "stream"
        }
      ]
    },
    {
      "cell_type": "code",
      "source": "marks = int(input())\nif marks < 600:\n    print(\"NO GRE\")\n    if marks < 500:\n        print(\"TOFEL\")\n        if marks < 400:\n            print(\"Try something else\")\n    else:\n        print(\"YOU GOT TOFL\")\nelse:\n    print(\"YOU GOT GRE CONGRATULATION\")\n        \n                \n    \n          ",
      "metadata": {
        "trusted": true
      },
      "execution_count": 58,
      "outputs": [
        {
          "name": "stderr",
          "text": "Future exception was never retrieved\nfuture: <Future finished exception=JsException(TypeError: Cannot read properties of null (reading 'sendInputRequest'))>\n",
          "output_type": "stream"
        },
        {
          "ename": "<class 'TypeError'>",
          "evalue": "int() argument must be a string, a bytes-like object or a real number, not 'Future'",
          "traceback": [
            "\u001b[0;31m---------------------------------------------------------------------------\u001b[0m",
            "\u001b[0;31mTypeError\u001b[0m                                 Traceback (most recent call last)",
            "Input \u001b[0;32mIn [58]\u001b[0m, in \u001b[0;36m<cell line: 1>\u001b[0;34m()\u001b[0m\n\u001b[0;32m----> 1\u001b[0m marks \u001b[38;5;241m=\u001b[39m \u001b[38;5;28;43mint\u001b[39;49m\u001b[43m(\u001b[49m\u001b[38;5;28;43minput\u001b[39;49m\u001b[43m(\u001b[49m\u001b[43m)\u001b[49m\u001b[43m)\u001b[49m\n\u001b[1;32m      2\u001b[0m \u001b[38;5;28;01mif\u001b[39;00m marks \u001b[38;5;241m<\u001b[39m \u001b[38;5;241m600\u001b[39m:\n\u001b[1;32m      3\u001b[0m     \u001b[38;5;28mprint\u001b[39m(\u001b[38;5;124m\"\u001b[39m\u001b[38;5;124mNO GRE\u001b[39m\u001b[38;5;124m\"\u001b[39m)\n",
            "\u001b[0;31mTypeError\u001b[0m: int() argument must be a string, a bytes-like object or a real number, not 'Future'"
          ],
          "output_type": "error"
        }
      ]
    },
    {
      "cell_type": "code",
      "source": "#type\nprice = int(input())\nif price <500 :\n    print(\"i will be able to buy something\")\n    if price <400 :\n        print(\"i will be able to buy a jacket\")\n    elif price <300 :\n        print(\"i will be able to buy a shirt\")\n    else:\n        print(\"i will won't\")\nelse:\n    print(\"i will not able to buy anything for this price tag\")",
      "metadata": {
        "trusted": true
      },
      "execution_count": 57,
      "outputs": [
        {
          "name": "stderr",
          "text": "Future exception was never retrieved\nfuture: <Future finished exception=JsException(TypeError: Cannot read properties of null (reading 'sendInputRequest'))>\n",
          "output_type": "stream"
        },
        {
          "ename": "<class 'TypeError'>",
          "evalue": "int() argument must be a string, a bytes-like object or a real number, not 'Future'",
          "traceback": [
            "\u001b[0;31m---------------------------------------------------------------------------\u001b[0m",
            "\u001b[0;31mTypeError\u001b[0m                                 Traceback (most recent call last)",
            "Input \u001b[0;32mIn [57]\u001b[0m, in \u001b[0;36m<cell line: 2>\u001b[0;34m()\u001b[0m\n\u001b[1;32m      1\u001b[0m \u001b[38;5;66;03m#type\u001b[39;00m\n\u001b[0;32m----> 2\u001b[0m price \u001b[38;5;241m=\u001b[39m \u001b[38;5;28;43mint\u001b[39;49m\u001b[43m(\u001b[49m\u001b[38;5;28;43minput\u001b[39;49m\u001b[43m(\u001b[49m\u001b[43m)\u001b[49m\u001b[43m)\u001b[49m\n\u001b[1;32m      3\u001b[0m \u001b[38;5;28;01mif\u001b[39;00m price \u001b[38;5;241m<\u001b[39m\u001b[38;5;241m500\u001b[39m :\n\u001b[1;32m      4\u001b[0m     \u001b[38;5;28mprint\u001b[39m(\u001b[38;5;124m\"\u001b[39m\u001b[38;5;124mi will be able to buy something\u001b[39m\u001b[38;5;124m\"\u001b[39m)\n",
            "\u001b[0;31mTypeError\u001b[0m: int() argument must be a string, a bytes-like object or a real number, not 'Future'"
          ],
          "output_type": "error"
        }
      ]
    },
    {
      "cell_type": "code",
      "source": " #floating:\nval = float(input(\"Enter a floating point number\"))\nif val >= 0 :\n    if val == 0 :\n            print(\"Entered value is zero\")\n    else :\n            print(\"Enter value is a positive number\")\nelse :\n            print(\"Enter value is a negative number\")",
      "metadata": {
        "trusted": true
      },
      "execution_count": 3,
      "outputs": [
        {
          "name": "stderr",
          "text": "Future exception was never retrieved\nfuture: <Future finished exception=JsException(TypeError: Cannot read properties of null (reading 'sendInputRequest'))>\n",
          "output_type": "stream"
        },
        {
          "ename": "<class 'TypeError'>",
          "evalue": "float() argument must be a string or a real number, not 'Future'",
          "traceback": [
            "\u001b[0;31m---------------------------------------------------------------------------\u001b[0m",
            "\u001b[0;31mTypeError\u001b[0m                                 Traceback (most recent call last)",
            "Input \u001b[0;32mIn [3]\u001b[0m, in \u001b[0;36m<cell line: 2>\u001b[0;34m()\u001b[0m\n\u001b[1;32m      1\u001b[0m \u001b[38;5;66;03m#floating:\u001b[39;00m\n\u001b[0;32m----> 2\u001b[0m val \u001b[38;5;241m=\u001b[39m \u001b[38;5;28;43mfloat\u001b[39;49m\u001b[43m(\u001b[49m\u001b[38;5;28;43minput\u001b[39;49m\u001b[43m(\u001b[49m\u001b[38;5;124;43m\"\u001b[39;49m\u001b[38;5;124;43mEnter a floating point number\u001b[39;49m\u001b[38;5;124;43m\"\u001b[39;49m\u001b[43m)\u001b[49m\u001b[43m)\u001b[49m\n\u001b[1;32m      3\u001b[0m \u001b[38;5;28;01mif\u001b[39;00m val \u001b[38;5;241m>\u001b[39m\u001b[38;5;241m=\u001b[39m \u001b[38;5;241m0\u001b[39m :\n\u001b[1;32m      4\u001b[0m    \u001b[38;5;28;01mif\u001b[39;00m val \u001b[38;5;241m==\u001b[39m \u001b[38;5;241m0\u001b[39m :\n",
            "\u001b[0;31mTypeError\u001b[0m: float() argument must be a string or a real number, not 'Future'"
          ],
          "output_type": "error"
        }
      ]
    },
    {
      "cell_type": "code",
      "source": "a = 10\nif a <= 10:\n    print(\"try to do something\")",
      "metadata": {
        "trusted": true
      },
      "execution_count": 4,
      "outputs": [
        {
          "name": "stdout",
          "text": "try to do something\n",
          "output_type": "stream"
        }
      ]
    },
    {
      "cell_type": "code",
      "source": "#or condition\na = 10\nif a < 10 or a == 10:\n    print(\"try to do something\")",
      "metadata": {
        "trusted": true
      },
      "execution_count": 5,
      "outputs": [
        {
          "name": "stdout",
          "text": "try to do something\n",
          "output_type": "stream"
        }
      ]
    },
    {
      "cell_type": "code",
      "source": "#or condition\na = 10\nif a < 10 or a > 10:\n    print(\"try to do something\")",
      "metadata": {
        "trusted": true
      },
      "execution_count": 6,
      "outputs": []
    },
    {
      "cell_type": "code",
      "source": "#and condition\na = 10\nif a < 10 and a > 10:\n    print(\"try to do something\")",
      "metadata": {
        "trusted": true
      },
      "execution_count": 8,
      "outputs": []
    },
    {
      "cell_type": "code",
      "source": "#and condition\na = 10\nif a == 10 and a > 8:\n    print(\"try to do something\")",
      "metadata": {
        "trusted": true
      },
      "execution_count": 7,
      "outputs": [
        {
          "name": "stdout",
          "text": "try to do something\n",
          "output_type": "stream"
        }
      ]
    },
    {
      "cell_type": "code",
      "source": "a = \"varsha\"\nif a ==  \"varsha\" and a == \"varsha\" :\n    print(\"this is varsha\")",
      "metadata": {
        "trusted": true
      },
      "execution_count": 10,
      "outputs": [
        {
          "name": "stdout",
          "text": "this is varsha\n",
          "output_type": "stream"
        }
      ]
    },
    {
      "cell_type": "code",
      "source": "a = \"varsha\"\nif a ==  \"varsha\" and a == \"Varsha\" :\n    print(\"this is varsha\")",
      "metadata": {
        "trusted": true
      },
      "execution_count": 11,
      "outputs": []
    },
    {
      "cell_type": "code",
      "source": "a = \"varsha\"\nif a ==  \"varsha\" or a == \"Varsha\" :\n    print(\"this is varsha\")",
      "metadata": {
        "trusted": true
      },
      "execution_count": 12,
      "outputs": [
        {
          "name": "stdout",
          "text": "this is varsha\n",
          "output_type": "stream"
        }
      ]
    },
    {
      "cell_type": "code",
      "source": "a = 10\nb = 11\nc = 12\nd = 13\nif a == 9 and b == 11 and c == 12 and d == 13:\n    print(\"Let's do something\")",
      "metadata": {
        "trusted": true
      },
      "execution_count": 13,
      "outputs": []
    },
    {
      "cell_type": "code",
      "source": "a = 10\nb = 11\nc = 12\nd = 13\nif a == 9 or b == 11 and c == 12 and d == 13:\n    print(\"Let's do something\")",
      "metadata": {
        "trusted": true
      },
      "execution_count": 15,
      "outputs": [
        {
          "name": "stdout",
          "text": "Let's do something\n",
          "output_type": "stream"
        }
      ]
    },
    {
      "cell_type": "code",
      "source": "a = 10\nb = 11\nc = 12\nd = 13\nif a == 9 or b == 11 or c == 12 or d == 13:\n    print(\"Let's do something\")",
      "metadata": {
        "trusted": true
      },
      "execution_count": 14,
      "outputs": [
        {
          "name": "stdout",
          "text": "Let's do something\n",
          "output_type": "stream"
        }
      ]
    },
    {
      "cell_type": "code",
      "source": "#we have a dict, inside the dict we have to checck the comparision:\nd = {'key1' : \"value\", 'key2' : \"varsha\", \"key3\" : \"ineuron\"}\nd['key1']",
      "metadata": {
        "trusted": true
      },
      "execution_count": 21,
      "outputs": [
        {
          "execution_count": 21,
          "output_type": "execute_result",
          "data": {
            "text/plain": "'value'"
          },
          "metadata": {}
        }
      ]
    },
    {
      "cell_type": "code",
      "source": "#we have a dict, inside the dict we have to checck the comparision:\nd = {'key1' : \"value\", 'key2' : \"varsha\", \"key3\" : \"ineuron\"}\nif d['key1'] == \"value\" and d['key2'] == \"varsha\" and d['key3'] == \"ineuron\" :\n    print(\"All the values are verified\")\n    print(d.values())",
      "metadata": {
        "trusted": true
      },
      "execution_count": 23,
      "outputs": [
        {
          "name": "stdout",
          "text": "All the values are verified\ndict_values(['value', 'varsha', 'ineuron'])\n",
          "output_type": "stream"
        }
      ]
    },
    {
      "cell_type": "code",
      "source": "",
      "metadata": {},
      "execution_count": null,
      "outputs": []
    }
  ]
}